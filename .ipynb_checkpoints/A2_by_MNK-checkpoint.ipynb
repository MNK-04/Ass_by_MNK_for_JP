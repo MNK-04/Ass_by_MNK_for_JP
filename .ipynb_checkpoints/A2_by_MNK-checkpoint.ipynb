{
 "cells": [
  {
   "cell_type": "markdown",
   "id": "fea62591-86b0-438a-a089-3ac97b102db9",
   "metadata": {},
   "source": [
    "### Answer 1"
   ]
  },
  {
   "cell_type": "code",
   "execution_count": 1,
   "id": "baa2ef58-a51b-43ac-813f-5f575abcdfae",
   "metadata": {},
   "outputs": [
    {
     "name": "stdin",
     "output_type": "stream",
     "text": [
      "Enter your Age:  10\n"
     ]
    },
    {
     "name": "stdout",
     "output_type": "stream",
     "text": [
      "Child, Inclusive\n"
     ]
    }
   ],
   "source": [
    "# Age Group Classification\n",
    "age = int(input(\"Enter your Age: \"))\n",
    "if age >= 0 and age <= 12:\n",
    "    print(\"Child, Inclusive\")\n",
    "elif age >= 13 and age <= 19:\n",
    "    print(\"Teenager, Inclusive\")\n",
    "elif age >= 20 and age <= 64:\n",
    "    print(\"Adult, Inclusive\")\n",
    "else:\n",
    "    print(\"Senior, Exclusive\")"
   ]
  },
  {
   "cell_type": "markdown",
   "id": "467727a8-5f2f-473a-b279-9825d8713854",
   "metadata": {},
   "source": [
    "### Answer 2"
   ]
  },
  {
   "cell_type": "code",
   "execution_count": 2,
   "id": "ea583744-4862-4974-b44d-93f51953e2f0",
   "metadata": {},
   "outputs": [
    {
     "name": "stdin",
     "output_type": "stream",
     "text": [
      "Membership Status:  Premium\n",
      "Purchase Amount:  1100\n"
     ]
    },
    {
     "name": "stdout",
     "output_type": "stream",
     "text": [
      "Eligible for discount\n"
     ]
    }
   ],
   "source": [
    "# Checking for Eligibility for Discount\n",
    "x = input(\"Membership Status: \")\n",
    "y = int(input(\"Purchase Amount: \"))\n",
    "if x == \"Premium\" and y >=1000:\n",
    "    print(\"Eligible for discount\")\n",
    "elif x == \"Regular\" and y >=2000:\n",
    "    print(\"Eligible for discount\")\n",
    "else:\n",
    "    print(\"Not eligible for discount\")"
   ]
  },
  {
   "cell_type": "markdown",
   "id": "9157e4d0-bf74-4118-9690-67574def21b1",
   "metadata": {},
   "source": [
    "### Answer 3"
   ]
  },
  {
   "cell_type": "code",
   "execution_count": 3,
   "id": "5ce66abe-b636-44e2-9210-e12d9fec4ae2",
   "metadata": {},
   "outputs": [
    {
     "name": "stdin",
     "output_type": "stream",
     "text": [
      "Age:  18\n",
      "Citizenship status(Citizen or Non-Citizen):  Citizen\n",
      "Are you from special region?:  \n"
     ]
    },
    {
     "name": "stdout",
     "output_type": "stream",
     "text": [
      "Eligible to vote\n"
     ]
    }
   ],
   "source": [
    "# Voting Eligibility Check\n",
    "a = int(input(\"Age: \"))\n",
    "b = input(\"Citizenship status(Citizen or Non-Citizen): \")\n",
    "c = input(\"Are you from special region?: \")\n",
    "if a >= 18 and b == \"Citizen\":\n",
    "    print(\"Eligible to vote\")\n",
    "elif a >= 16 and b == \"Non-Citizen\" and c == \"Yes\":\n",
    "    print(\"Eligible to vote\")\n",
    "else:\n",
    "    print(\"Not eligible to vote\")"
   ]
  },
  {
   "cell_type": "markdown",
   "id": "ec4fa5c2-67be-43d9-a727-bfb0e2db0321",
   "metadata": {},
   "source": [
    "### Answer 4"
   ]
  },
  {
   "cell_type": "code",
   "execution_count": 5,
   "id": "2257d6ac-0121-44d1-811e-51284f1fa807",
   "metadata": {},
   "outputs": [
    {
     "name": "stdin",
     "output_type": "stream",
     "text": [
      "Performance Rating:  Good\n",
      "Year of Service:  15\n"
     ]
    },
    {
     "name": "stdout",
     "output_type": "stream",
     "text": [
      "Eligible for bonus\n"
     ]
    }
   ],
   "source": [
    "# Employee Salary Bonus Eligibility\n",
    "d = input(\"Performance Rating: \")\n",
    "e = int(input(\"Year of Service: \"))\n",
    "if d == \"Excellent\" and e >=5:\n",
    "    print(\"Eligible for bonus\")\n",
    "elif d == \"Good\" and e >=10:\n",
    "    print(\"Eligible for bonus\")\n",
    "elif d == \"Satisfactory\" or e >=15:\n",
    "    print(\"Eligible for bonus\")\n",
    "else:\n",
    "    print(\"Not Eligible for bonus\")"
   ]
  },
  {
   "cell_type": "markdown",
   "id": "d36955d1-1ceb-497b-81d1-28214c08de62",
   "metadata": {},
   "source": [
    "### Answer 5"
   ]
  },
  {
   "cell_type": "code",
   "execution_count": 26,
   "id": "55e81d2a-6145-4965-a0fd-9182957e21f3",
   "metadata": {},
   "outputs": [],
   "source": [
    "f = \"I'm learning Python programming\""
   ]
  },
  {
   "cell_type": "code",
   "execution_count": 27,
   "id": "900c3f01-a15f-4066-8e35-5ea0230f7c56",
   "metadata": {},
   "outputs": [],
   "source": [
    "f1 = f.replace(\" \", \"_\")"
   ]
  },
  {
   "cell_type": "code",
   "execution_count": 28,
   "id": "97172bbe-2dbc-4d9b-9ada-580eccf4bbc3",
   "metadata": {},
   "outputs": [
    {
     "data": {
      "text/plain": [
       "\"I'm_learning_Python_programming\""
      ]
     },
     "execution_count": 28,
     "metadata": {},
     "output_type": "execute_result"
    }
   ],
   "source": [
    "f1"
   ]
  },
  {
   "cell_type": "code",
   "execution_count": 30,
   "id": "d66b4448-f0b5-476e-8654-e4b84046ad65",
   "metadata": {},
   "outputs": [
    {
     "data": {
      "text/plain": [
       "3"
      ]
     },
     "execution_count": 30,
     "metadata": {},
     "output_type": "execute_result"
    }
   ],
   "source": [
    "f1.count(\"_\")"
   ]
  },
  {
   "cell_type": "code",
   "execution_count": 31,
   "id": "56760ddb-cda8-4052-b262-e78805813f92",
   "metadata": {},
   "outputs": [
    {
     "data": {
      "text/plain": [
       "3"
      ]
     },
     "execution_count": 31,
     "metadata": {},
     "output_type": "execute_result"
    }
   ],
   "source": [
    "f1.find(\"_\")"
   ]
  },
  {
   "cell_type": "markdown",
   "id": "f431369d-945b-4816-bef8-22e9eb5d2ab7",
   "metadata": {},
   "source": [
    "### Answer 6"
   ]
  },
  {
   "cell_type": "code",
   "execution_count": 42,
   "id": "b01da767-d7f3-4b84-ab8e-d15e2a9e6757",
   "metadata": {},
   "outputs": [
    {
     "name": "stdin",
     "output_type": "stream",
     "text": [
      "Write anything:  Program\n"
     ]
    }
   ],
   "source": [
    "g = input(\"Write anything: \")"
   ]
  },
  {
   "cell_type": "code",
   "execution_count": 43,
   "id": "053c88e3-2030-45cb-bffa-96e044b2d9d5",
   "metadata": {},
   "outputs": [
    {
     "data": {
      "text/plain": [
       "str"
      ]
     },
     "execution_count": 43,
     "metadata": {},
     "output_type": "execute_result"
    }
   ],
   "source": [
    "type(g)"
   ]
  },
  {
   "cell_type": "code",
   "execution_count": 44,
   "id": "90cdcc8d-3f17-40dd-9fe1-19d372155485",
   "metadata": {},
   "outputs": [
    {
     "data": {
      "text/plain": [
       "7"
      ]
     },
     "execution_count": 44,
     "metadata": {},
     "output_type": "execute_result"
    }
   ],
   "source": [
    "len(g)"
   ]
  },
  {
   "cell_type": "code",
   "execution_count": 46,
   "id": "a603d13f-7866-4320-96f2-d6be2f83b5fe",
   "metadata": {},
   "outputs": [
    {
     "data": {
      "text/plain": [
       "'Prog'"
      ]
     },
     "execution_count": 46,
     "metadata": {},
     "output_type": "execute_result"
    }
   ],
   "source": [
    "g[:4]"
   ]
  },
  {
   "cell_type": "code",
   "execution_count": 47,
   "id": "e84d49a9-fcf6-43dc-8fdf-b177bb932983",
   "metadata": {},
   "outputs": [
    {
     "data": {
      "text/plain": [
       "'Porm'"
      ]
     },
     "execution_count": 47,
     "metadata": {},
     "output_type": "execute_result"
    }
   ],
   "source": [
    "g[::2]"
   ]
  },
  {
   "cell_type": "code",
   "execution_count": 51,
   "id": "992a1dfd-9f5c-43d1-9a12-48960d6c176c",
   "metadata": {},
   "outputs": [
    {
     "data": {
      "text/plain": [
       "'Program'"
      ]
     },
     "execution_count": 51,
     "metadata": {},
     "output_type": "execute_result"
    }
   ],
   "source": [
    "g"
   ]
  },
  {
   "cell_type": "code",
   "execution_count": 53,
   "id": "20912550-6458-4690-bfab-bdf3de66485f",
   "metadata": {},
   "outputs": [
    {
     "data": {
      "text/plain": [
       "'margorP'"
      ]
     },
     "execution_count": 53,
     "metadata": {},
     "output_type": "execute_result"
    }
   ],
   "source": [
    "g[::-1]"
   ]
  },
  {
   "cell_type": "markdown",
   "id": "6634c68e-02e0-4fbc-a076-309fd419e3bb",
   "metadata": {},
   "source": [
    "### Answer 7"
   ]
  },
  {
   "cell_type": "code",
   "execution_count": 102,
   "id": "b05d548b-4ff1-4c93-bfa7-291e243a85e1",
   "metadata": {},
   "outputs": [],
   "source": [
    "hehe = \"Hello World, We are learning Python\""
   ]
  },
  {
   "cell_type": "code",
   "execution_count": 103,
   "id": "305999c5-ce23-4676-8296-e65fce2e6289",
   "metadata": {},
   "outputs": [],
   "source": [
    "hehe1 = hehe.split()"
   ]
  },
  {
   "cell_type": "code",
   "execution_count": 104,
   "id": "7beaa37e-ce9a-4807-bfcb-3948688f4afd",
   "metadata": {},
   "outputs": [
    {
     "data": {
      "text/plain": [
       "['Hello', 'World,', 'We', 'are', 'learning', 'Python']"
      ]
     },
     "execution_count": 104,
     "metadata": {},
     "output_type": "execute_result"
    }
   ],
   "source": [
    "hehe1"
   ]
  },
  {
   "cell_type": "code",
   "execution_count": 105,
   "id": "67b2e32d-2859-4c15-9df4-88e8d54ecc48",
   "metadata": {},
   "outputs": [],
   "source": [
    "hehe2 = hehe1[::-1]"
   ]
  },
  {
   "cell_type": "code",
   "execution_count": 106,
   "id": "664c419d-73ca-47fc-bb24-5f8552906152",
   "metadata": {},
   "outputs": [
    {
     "data": {
      "text/plain": [
       "['Python', 'learning', 'are', 'We', 'World,', 'Hello']"
      ]
     },
     "execution_count": 106,
     "metadata": {},
     "output_type": "execute_result"
    }
   ],
   "source": [
    "hehe2"
   ]
  },
  {
   "cell_type": "code",
   "execution_count": 107,
   "id": "0195154b-77a4-4162-8e1c-f55034b2b023",
   "metadata": {},
   "outputs": [],
   "source": [
    "hehe3 = \" \".join(hehe2)"
   ]
  },
  {
   "cell_type": "code",
   "execution_count": 108,
   "id": "99942ebc-28d5-43fc-93aa-3e9e38fbe324",
   "metadata": {},
   "outputs": [
    {
     "data": {
      "text/plain": [
       "'Python learning are We World, Hello'"
      ]
     },
     "execution_count": 108,
     "metadata": {},
     "output_type": "execute_result"
    }
   ],
   "source": [
    "hehe3"
   ]
  },
  {
   "cell_type": "markdown",
   "id": "cb4e9ec0-4bd5-4d11-a336-a704d044a531",
   "metadata": {},
   "source": [
    "## Answer 8"
   ]
  },
  {
   "cell_type": "code",
   "execution_count": 109,
   "id": "9986e717-a4e9-4916-9c8b-ffa3cd7b16f1",
   "metadata": {},
   "outputs": [],
   "source": [
    "i = \"SKU-12345-XYZ\""
   ]
  },
  {
   "cell_type": "code",
   "execution_count": 114,
   "id": "0d5b06c5-51cf-44d2-80ac-49842306c225",
   "metadata": {},
   "outputs": [
    {
     "data": {
      "text/plain": [
       "4"
      ]
     },
     "execution_count": 114,
     "metadata": {},
     "output_type": "execute_result"
    }
   ],
   "source": [
    "i.index(\"1\")"
   ]
  },
  {
   "cell_type": "code",
   "execution_count": 115,
   "id": "28077c84-3bd3-4626-85f4-1bd772a6a8b8",
   "metadata": {},
   "outputs": [
    {
     "data": {
      "text/plain": [
       "8"
      ]
     },
     "execution_count": 115,
     "metadata": {},
     "output_type": "execute_result"
    }
   ],
   "source": [
    "i.index(\"5\")"
   ]
  },
  {
   "cell_type": "code",
   "execution_count": 128,
   "id": "6aee4a93-b473-4772-b53f-24c73ba6d232",
   "metadata": {},
   "outputs": [
    {
     "data": {
      "text/plain": [
       "12"
      ]
     },
     "execution_count": 128,
     "metadata": {},
     "output_type": "execute_result"
    }
   ],
   "source": [
    "i.index(\"Z\")"
   ]
  },
  {
   "cell_type": "code",
   "execution_count": 129,
   "id": "af9c8a56-bc1a-43d6-9775-b420488c96ab",
   "metadata": {},
   "outputs": [],
   "source": [
    "i1 = i[4:-4]"
   ]
  },
  {
   "cell_type": "code",
   "execution_count": 130,
   "id": "ab80f459-a27b-4757-8b0d-e89d637b3b82",
   "metadata": {},
   "outputs": [
    {
     "data": {
      "text/plain": [
       "'12345'"
      ]
     },
     "execution_count": 130,
     "metadata": {},
     "output_type": "execute_result"
    }
   ],
   "source": [
    "i1"
   ]
  },
  {
   "cell_type": "code",
   "execution_count": 132,
   "id": "eab42071-403c-4722-af3e-10bd092edaa7",
   "metadata": {},
   "outputs": [
    {
     "name": "stdout",
     "output_type": "stream",
     "text": [
      "Numbers:  12345\n"
     ]
    }
   ],
   "source": [
    "i2 = print(\"Numbers: \", i1)"
   ]
  },
  {
   "cell_type": "markdown",
   "id": "ecccb681-a691-44c0-8ba0-931422f7daa4",
   "metadata": {},
   "source": [
    "### Answer 9"
   ]
  },
  {
   "cell_type": "code",
   "execution_count": 149,
   "id": "cdb166ae-5ba8-429e-abf5-17cde0e88c7a",
   "metadata": {},
   "outputs": [
    {
     "name": "stdin",
     "output_type": "stream",
     "text": [
      "Enter your password:  Abdul Moiz@22\n"
     ]
    },
    {
     "name": "stdout",
     "output_type": "stream",
     "text": [
      "Uppercase Characters?: True\n",
      "Lowercase Characters?: True\n",
      "Spaces?: True\n",
      "Special Characters?: True\n"
     ]
    }
   ],
   "source": [
    "password = input(\"Enter your password: \")\n",
    "Uppercase = any(char.isupper() for char in password)\n",
    "Lowercase = any(char.islower() for char in password)\n",
    "Spaces = any(char.isspace() for char in password)\n",
    "Special_Characters = any(not char.isalnum() and not char.isspace() for char in password)\n",
    "print(\"Uppercase Characters?:\", Uppercase)\n",
    "print(\"Lowercase Characters?:\", Lowercase)\n",
    "print(\"Spaces?:\", Spaces)\n",
    "print(\"Special Characters?:\", Special_Characters)"
   ]
  },
  {
   "cell_type": "markdown",
   "id": "0ccbeed7-a429-4298-b0a0-2dfb65a27ba5",
   "metadata": {},
   "source": [
    "### Answer 10"
   ]
  },
  {
   "cell_type": "code",
   "execution_count": 150,
   "id": "1579d858-af50-4304-b935-ede89412c62b",
   "metadata": {},
   "outputs": [
    {
     "name": "stdin",
     "output_type": "stream",
     "text": [
      "Enter a sentence:  \"I love programming in Python\"\n"
     ]
    },
    {
     "name": "stdout",
     "output_type": "stream",
     "text": [
      "The longest word is: programming\n"
     ]
    }
   ],
   "source": [
    "Input = input(\"Enter a sentence: \")\n",
    "Words = Input.split()\n",
    "Result = max(Words, key=len)\n",
    "print(\"The longest word is:\", Result)"
   ]
  },
  {
   "cell_type": "code",
   "execution_count": null,
   "id": "167cbdd3-9101-4bf0-b336-8e8ecbabfd98",
   "metadata": {},
   "outputs": [],
   "source": []
  }
 ],
 "metadata": {
  "kernelspec": {
   "display_name": "Python 3 (ipykernel)",
   "language": "python",
   "name": "python3"
  },
  "language_info": {
   "codemirror_mode": {
    "name": "ipython",
    "version": 3
   },
   "file_extension": ".py",
   "mimetype": "text/x-python",
   "name": "python",
   "nbconvert_exporter": "python",
   "pygments_lexer": "ipython3",
   "version": "3.12.7"
  }
 },
 "nbformat": 4,
 "nbformat_minor": 5
}
