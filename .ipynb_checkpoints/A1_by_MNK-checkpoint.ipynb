{
 "cells": [
  {
   "cell_type": "code",
   "execution_count": 1,
   "id": "63243d9a-90fd-4543-a39d-a55739636aed",
   "metadata": {},
   "outputs": [],
   "source": [
    "salaries = ['20k', '40k', '50k', '60k', '35k', '89k', '40k']"
   ]
  },
  {
   "cell_type": "markdown",
   "id": "5553bc72-e3a1-41ac-b8e0-0bdf2baa6d3e",
   "metadata": {},
   "source": [
    "### Answer 1."
   ]
  },
  {
   "cell_type": "code",
   "execution_count": 2,
   "id": "8d775bd8-2cac-4d44-99ee-f0215d5a40ec",
   "metadata": {},
   "outputs": [
    {
     "data": {
      "text/plain": [
       "7"
      ]
     },
     "execution_count": 2,
     "metadata": {},
     "output_type": "execute_result"
    }
   ],
   "source": [
    "len(salaries)"
   ]
  },
  {
   "cell_type": "markdown",
   "id": "4206c59e-ed23-49a1-9455-017b3392d564",
   "metadata": {},
   "source": [
    "### Answer 2."
   ]
  },
  {
   "cell_type": "code",
   "execution_count": 3,
   "id": "00422750-edf9-4ac9-92d2-006df5e3d7d7",
   "metadata": {},
   "outputs": [
    {
     "data": {
      "text/plain": [
       "'50k'"
      ]
     },
     "execution_count": 3,
     "metadata": {},
     "output_type": "execute_result"
    }
   ],
   "source": [
    "salaries[2]"
   ]
  },
  {
   "cell_type": "markdown",
   "id": "1a9b3f14-0432-4fbc-b90f-66bbcf53c8f9",
   "metadata": {},
   "source": [
    "### Answer 3."
   ]
  },
  {
   "cell_type": "code",
   "execution_count": 4,
   "id": "506a1a01-0735-4815-9781-6d8f939ceac3",
   "metadata": {},
   "outputs": [
    {
     "data": {
      "text/plain": [
       "'40k'"
      ]
     },
     "execution_count": 4,
     "metadata": {},
     "output_type": "execute_result"
    }
   ],
   "source": [
    "salaries[-1]"
   ]
  },
  {
   "cell_type": "markdown",
   "id": "202dd512-7e5b-4e1a-b174-4adeaf076b98",
   "metadata": {},
   "source": [
    "### Answer 4."
   ]
  },
  {
   "cell_type": "code",
   "execution_count": 5,
   "id": "55d3e1af-a48c-4d67-b88d-bbd4412fe20b",
   "metadata": {},
   "outputs": [
    {
     "data": {
      "text/plain": [
       "['50k', '60k', '35k']"
      ]
     },
     "execution_count": 5,
     "metadata": {},
     "output_type": "execute_result"
    }
   ],
   "source": [
    "salaries[2:5]"
   ]
  },
  {
   "cell_type": "markdown",
   "id": "5370995b-7632-4399-b9bc-d3da4df609c6",
   "metadata": {},
   "source": [
    "### Answer 5a."
   ]
  },
  {
   "cell_type": "code",
   "execution_count": 6,
   "id": "085e5b44-204b-4583-bcb2-7a50c3f8c9d5",
   "metadata": {},
   "outputs": [
    {
     "data": {
      "text/plain": [
       "['20k', '40k', '50k', '60k', '35k', '89k', '40k']"
      ]
     },
     "execution_count": 6,
     "metadata": {},
     "output_type": "execute_result"
    }
   ],
   "source": [
    "salaries"
   ]
  },
  {
   "cell_type": "code",
   "execution_count": 7,
   "id": "a74bcdab-dd46-4c26-b85b-ad407144b477",
   "metadata": {},
   "outputs": [],
   "source": [
    "salaries.append(\"100k\")"
   ]
  },
  {
   "cell_type": "code",
   "execution_count": 8,
   "id": "4176ddd6-6f24-4a5b-ba0c-a5f2df8d6596",
   "metadata": {},
   "outputs": [
    {
     "data": {
      "text/plain": [
       "['20k', '40k', '50k', '60k', '35k', '89k', '40k', '100k']"
      ]
     },
     "execution_count": 8,
     "metadata": {},
     "output_type": "execute_result"
    }
   ],
   "source": [
    "salaries"
   ]
  },
  {
   "cell_type": "markdown",
   "id": "4b5b14ad-2f8a-4c81-af7d-785ca3a9db78",
   "metadata": {},
   "source": [
    "### Answer 5b."
   ]
  },
  {
   "cell_type": "code",
   "execution_count": 9,
   "id": "b4266741-a7e8-4182-97ec-1cbcf30b646b",
   "metadata": {},
   "outputs": [
    {
     "data": {
      "text/plain": [
       "['20k', '40k', '50k', '60k', '35k', '89k', '40k', '100k']"
      ]
     },
     "execution_count": 9,
     "metadata": {},
     "output_type": "execute_result"
    }
   ],
   "source": [
    "salaries"
   ]
  },
  {
   "cell_type": "code",
   "execution_count": 10,
   "id": "996452b6-6f3b-4277-96ec-d9c5d23f3118",
   "metadata": {},
   "outputs": [],
   "source": [
    "salaries += ['110k']"
   ]
  },
  {
   "cell_type": "code",
   "execution_count": 11,
   "id": "19ab45fe-82eb-48af-84c8-74565b040928",
   "metadata": {},
   "outputs": [
    {
     "data": {
      "text/plain": [
       "['20k', '40k', '50k', '60k', '35k', '89k', '40k', '100k', '110k']"
      ]
     },
     "execution_count": 11,
     "metadata": {},
     "output_type": "execute_result"
    }
   ],
   "source": [
    "salaries"
   ]
  },
  {
   "cell_type": "code",
   "execution_count": 12,
   "id": "0303c6de-442f-4cf6-b650-86e37fea772f",
   "metadata": {},
   "outputs": [],
   "source": [
    "salaries = salaries + ['120k']"
   ]
  },
  {
   "cell_type": "code",
   "execution_count": 13,
   "id": "94050679-8041-4895-9e7a-bf47d43497ed",
   "metadata": {},
   "outputs": [
    {
     "data": {
      "text/plain": [
       "['20k', '40k', '50k', '60k', '35k', '89k', '40k', '100k', '110k', '120k']"
      ]
     },
     "execution_count": 13,
     "metadata": {},
     "output_type": "execute_result"
    }
   ],
   "source": [
    "salaries"
   ]
  },
  {
   "cell_type": "code",
   "execution_count": 14,
   "id": "a5347528-f54f-4324-885a-6e6a819deb94",
   "metadata": {},
   "outputs": [],
   "source": [
    "salaries = [salaries, \"130k\"]"
   ]
  },
  {
   "cell_type": "code",
   "execution_count": 15,
   "id": "3e7b50fd-fd67-4c91-be03-6d9be37cf601",
   "metadata": {},
   "outputs": [
    {
     "data": {
      "text/plain": [
       "[['20k', '40k', '50k', '60k', '35k', '89k', '40k', '100k', '110k', '120k'],\n",
       " '130k']"
      ]
     },
     "execution_count": 15,
     "metadata": {},
     "output_type": "execute_result"
    }
   ],
   "source": [
    "salaries"
   ]
  },
  {
   "cell_type": "markdown",
   "id": "65d52a8e-c40f-4937-86ec-6d6574c044e2",
   "metadata": {},
   "source": [
    "### Answer 6."
   ]
  },
  {
   "cell_type": "code",
   "execution_count": 16,
   "id": "bfdb9b87-5b52-4294-b75c-974ae339cd81",
   "metadata": {},
   "outputs": [
    {
     "data": {
      "text/plain": [
       "[['20k', '40k', '50k', '60k', '35k', '89k', '40k', '100k', '110k', '120k'],\n",
       " '130k']"
      ]
     },
     "execution_count": 16,
     "metadata": {},
     "output_type": "execute_result"
    }
   ],
   "source": [
    "salaries"
   ]
  },
  {
   "cell_type": "code",
   "execution_count": 17,
   "id": "c7f6c8dd-b6be-4fe3-9666-7fbff6aec9ae",
   "metadata": {},
   "outputs": [],
   "source": [
    "salaries[0][2] = '55k'"
   ]
  },
  {
   "cell_type": "code",
   "execution_count": 18,
   "id": "7a35a8dd-773d-4a76-82c6-e1f54b290b36",
   "metadata": {},
   "outputs": [
    {
     "data": {
      "text/plain": [
       "[['20k', '40k', '55k', '60k', '35k', '89k', '40k', '100k', '110k', '120k'],\n",
       " '130k']"
      ]
     },
     "execution_count": 18,
     "metadata": {},
     "output_type": "execute_result"
    }
   ],
   "source": [
    "salaries"
   ]
  },
  {
   "cell_type": "markdown",
   "id": "50f123fc-12c7-459f-bbec-5714b1121d90",
   "metadata": {},
   "source": [
    "### Answer 7."
   ]
  },
  {
   "cell_type": "code",
   "execution_count": 19,
   "id": "590d709f-c1c5-4bdf-ac35-c6e0cd968c02",
   "metadata": {},
   "outputs": [
    {
     "data": {
      "text/plain": [
       "[['20k', '40k', '55k', '60k', '35k', '89k', '40k', '100k', '110k', '120k'],\n",
       " '130k']"
      ]
     },
     "execution_count": 19,
     "metadata": {},
     "output_type": "execute_result"
    }
   ],
   "source": [
    "salaries"
   ]
  },
  {
   "cell_type": "code",
   "execution_count": 20,
   "id": "fa62e2dc-ad9c-472d-8dba-5df1d30c84e6",
   "metadata": {},
   "outputs": [
    {
     "data": {
      "text/plain": [
       "2"
      ]
     },
     "execution_count": 20,
     "metadata": {},
     "output_type": "execute_result"
    }
   ],
   "source": [
    "salaries[0].count('40k')"
   ]
  },
  {
   "cell_type": "code",
   "execution_count": 21,
   "id": "3ea0e5bd-7d47-4578-aa33-f22891687e07",
   "metadata": {},
   "outputs": [],
   "source": [
    "salaries = [['20k', '40k', '55k', '60k', '35k', '89k', '40k', '100k', '110k', '120k'], '130k']\n",
    "count = 0\n",
    "for salary in salaries[0]:\n",
    "    if salary == \"40k\":\n",
    "        count += 1\n",
    "if salaries[1] == \"40k\":\n",
    "    count += 1"
   ]
  },
  {
   "cell_type": "code",
   "execution_count": 22,
   "id": "18f43824-8aea-476a-b43d-fce0e61a3f9b",
   "metadata": {},
   "outputs": [
    {
     "name": "stdout",
     "output_type": "stream",
     "text": [
      "The number of times '40k' appears: 2\n"
     ]
    }
   ],
   "source": [
    "print(\"The number of times '40k' appears:\", count)"
   ]
  },
  {
   "cell_type": "code",
   "execution_count": 23,
   "id": "7ab74d46-62d8-4786-8965-ea3bb62fbb7a",
   "metadata": {},
   "outputs": [],
   "source": [
    "salaries = [['20k', '40k', '55k', '60k', '35k', '89k', '40k', '100k', '110k', '120k'], '130k']\n",
    "flattened_salaries = []\n",
    "for sublist in salaries:\n",
    "    if isinstance(sublist, list):\n",
    "        flattened_salaries.extend(sublist)\n",
    "    else:\n",
    "        flattened_salaries.append(sublist)\n",
    "count_40k = flattened_salaries.count('40k')"
   ]
  },
  {
   "cell_type": "code",
   "execution_count": 24,
   "id": "d8f48319-d948-4267-8e30-2d107ffdd556",
   "metadata": {},
   "outputs": [
    {
     "name": "stdout",
     "output_type": "stream",
     "text": [
      "The number of times '40k' appears in the list: 2\n"
     ]
    }
   ],
   "source": [
    "print(\"The number of times '40k' appears in the list:\", count_40k)"
   ]
  },
  {
   "cell_type": "markdown",
   "id": "f10e1808-66aa-4f73-b303-728083295e5d",
   "metadata": {},
   "source": [
    "### Answer 8."
   ]
  },
  {
   "cell_type": "code",
   "execution_count": 25,
   "id": "f38d89ff-0708-4f25-ab0f-894e38af3732",
   "metadata": {},
   "outputs": [
    {
     "data": {
      "text/plain": [
       "[['20k', '40k', '55k', '60k', '35k', '89k', '40k', '100k', '110k', '120k'],\n",
       " '130k']"
      ]
     },
     "execution_count": 25,
     "metadata": {},
     "output_type": "execute_result"
    }
   ],
   "source": [
    "salaries"
   ]
  },
  {
   "cell_type": "code",
   "execution_count": 26,
   "id": "173038bd-b429-4de7-a151-a2356bebef29",
   "metadata": {},
   "outputs": [],
   "source": [
    "salaries[0].insert(1, '35k')"
   ]
  },
  {
   "cell_type": "code",
   "execution_count": 27,
   "id": "062e149f-6e61-4bb5-8233-c456fcda9b4b",
   "metadata": {},
   "outputs": [
    {
     "data": {
      "text/plain": [
       "[['20k',\n",
       "  '35k',\n",
       "  '40k',\n",
       "  '55k',\n",
       "  '60k',\n",
       "  '35k',\n",
       "  '89k',\n",
       "  '40k',\n",
       "  '100k',\n",
       "  '110k',\n",
       "  '120k'],\n",
       " '130k']"
      ]
     },
     "execution_count": 27,
     "metadata": {},
     "output_type": "execute_result"
    }
   ],
   "source": [
    "salaries"
   ]
  },
  {
   "cell_type": "code",
   "execution_count": 28,
   "id": "382de95c-cc71-4426-adad-f4c8d82c7b43",
   "metadata": {},
   "outputs": [
    {
     "name": "stdout",
     "output_type": "stream",
     "text": [
      "Updated salaries list: [['20k', '30k', '40k', '55k', '60k', '35k', '89k', '40k', '100k', '110k', '120k'], '130k']\n"
     ]
    }
   ],
   "source": [
    "new_salary = '30k'\n",
    "salaries[0][1] = new_salary\n",
    "print(\"Updated salaries list:\", salaries)"
   ]
  },
  {
   "cell_type": "markdown",
   "id": "fb189f41-23ae-43b9-ac1e-221699d4ed2f",
   "metadata": {},
   "source": [
    "### Answer 9."
   ]
  },
  {
   "cell_type": "code",
   "execution_count": 37,
   "id": "e638598d-e81e-4204-85ca-b6a1badce997",
   "metadata": {},
   "outputs": [
    {
     "data": {
      "text/plain": [
       "[['20k',\n",
       "  '30k',\n",
       "  '40k',\n",
       "  '55k',\n",
       "  '60k',\n",
       "  '35k',\n",
       "  '89k',\n",
       "  '40k',\n",
       "  '100k',\n",
       "  '110k',\n",
       "  '120k'],\n",
       " '130k']"
      ]
     },
     "execution_count": 37,
     "metadata": {},
     "output_type": "execute_result"
    }
   ],
   "source": [
    "salaries"
   ]
  },
  {
   "cell_type": "code",
   "execution_count": 38,
   "id": "fc9138b3-9b1d-419b-b737-c8c355c76f77",
   "metadata": {},
   "outputs": [],
   "source": [
    "salaries.reverse()"
   ]
  },
  {
   "cell_type": "code",
   "execution_count": 39,
   "id": "692445fa-3730-4e35-ac03-4a1fabf53c53",
   "metadata": {},
   "outputs": [
    {
     "data": {
      "text/plain": [
       "['130k',\n",
       " ['20k',\n",
       "  '30k',\n",
       "  '40k',\n",
       "  '55k',\n",
       "  '60k',\n",
       "  '35k',\n",
       "  '89k',\n",
       "  '40k',\n",
       "  '100k',\n",
       "  '110k',\n",
       "  '120k']]"
      ]
     },
     "execution_count": 39,
     "metadata": {},
     "output_type": "execute_result"
    }
   ],
   "source": [
    "salaries"
   ]
  },
  {
   "cell_type": "markdown",
   "id": "3e547542-c1a7-4e34-bb22-ebcd89637f9b",
   "metadata": {},
   "source": [
    "### Answer 10."
   ]
  },
  {
   "cell_type": "code",
   "execution_count": 32,
   "id": "b4a7ebc0-d2fb-4cda-99c1-c6a238df58d1",
   "metadata": {},
   "outputs": [
    {
     "data": {
      "text/plain": [
       "['130k',\n",
       " ['20k',\n",
       "  '30k',\n",
       "  '40k',\n",
       "  '55k',\n",
       "  '60k',\n",
       "  '35k',\n",
       "  '89k',\n",
       "  '40k',\n",
       "  '100k',\n",
       "  '110k',\n",
       "  '120k']]"
      ]
     },
     "execution_count": 32,
     "metadata": {},
     "output_type": "execute_result"
    }
   ],
   "source": [
    "salaries"
   ]
  },
  {
   "cell_type": "code",
   "execution_count": 33,
   "id": "365e2db1-7a92-42c1-b303-3aef8ffe59ea",
   "metadata": {},
   "outputs": [],
   "source": [
    "reversed_salaries = salaries[::-1]"
   ]
  },
  {
   "cell_type": "code",
   "execution_count": 34,
   "id": "e9b05d6d-8c9f-4b86-a360-030673f5e3cd",
   "metadata": {},
   "outputs": [
    {
     "data": {
      "text/plain": [
       "[['20k',\n",
       "  '30k',\n",
       "  '40k',\n",
       "  '55k',\n",
       "  '60k',\n",
       "  '35k',\n",
       "  '89k',\n",
       "  '40k',\n",
       "  '100k',\n",
       "  '110k',\n",
       "  '120k'],\n",
       " '130k']"
      ]
     },
     "execution_count": 34,
     "metadata": {},
     "output_type": "execute_result"
    }
   ],
   "source": [
    "reversed_salaries"
   ]
  },
  {
   "cell_type": "code",
   "execution_count": null,
   "id": "59a89b38-6e0f-4cac-bc46-974169d8f543",
   "metadata": {},
   "outputs": [],
   "source": []
  }
 ],
 "metadata": {
  "kernelspec": {
   "display_name": "Python 3 (ipykernel)",
   "language": "python",
   "name": "python3"
  },
  "language_info": {
   "codemirror_mode": {
    "name": "ipython",
    "version": 3
   },
   "file_extension": ".py",
   "mimetype": "text/x-python",
   "name": "python",
   "nbconvert_exporter": "python",
   "pygments_lexer": "ipython3",
   "version": "3.12.7"
  }
 },
 "nbformat": 4,
 "nbformat_minor": 5
}
