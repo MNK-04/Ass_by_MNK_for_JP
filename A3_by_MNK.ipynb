{
 "cells": [
  {
   "cell_type": "markdown",
   "id": "922ed691-f7d9-4c91-afbd-0d1ddb34939e",
   "metadata": {},
   "source": [
    "## Question 1: Write program to check a person’s eligibility for a loan based on age, credit score, and income. "
   ]
  },
  {
   "cell_type": "code",
   "execution_count": 22,
   "id": "17d3041b-0e88-45fe-af83-9ec9e68f9371",
   "metadata": {},
   "outputs": [
    {
     "name": "stdin",
     "output_type": "stream",
     "text": [
      "What's your age?:  18\n",
      "What's your credit score?:  1000\n",
      "How much you earn annually?(USD):  24000\n"
     ]
    },
    {
     "name": "stdout",
     "output_type": "stream",
     "text": [
      "You are not eligible for loan as per our criteria\n"
     ]
    }
   ],
   "source": [
    "Age = int(input(\"What's your age?: \"))\n",
    "\n",
    "if Age >= 18:\n",
    "    Credit_Score = int(input(\"What's your credit score?: \"))\n",
    "    Income = float(input(\"How much you earn annually?(USD): \"))\n",
    "    if Credit_Score >= 650 and Income >= 30000:\n",
    "        print(\"You are eligible for loan\")\n",
    "    elif Credit_Score >= 700 and Income >= 25000:\n",
    "        print(\"You are also eligible for loan\")\n",
    "    else:\n",
    "        print(\"You are not eligible for loan as per our criteria\")\n",
    "else:\n",
    "    print(\"You are not eligible for loan due to underage\")"
   ]
  },
  {
   "cell_type": "markdown",
   "id": "be7a40ad-0c31-4cc4-8db2-d4b33977b6d9",
   "metadata": {},
   "source": [
    "## Q2. Write a Python program that checks if a person is an adult (age ≥ 18)."
   ]
  },
  {
   "cell_type": "code",
   "execution_count": 46,
   "id": "e876ac30-1a42-44bd-b1a2-c46b81091f2f",
   "metadata": {},
   "outputs": [
    {
     "name": "stdin",
     "output_type": "stream",
     "text": [
      "What's your age?:  18\n",
      "Years of experience?:  2\n"
     ]
    },
    {
     "name": "stdout",
     "output_type": "stream",
     "text": [
      "You are relatively new\n"
     ]
    }
   ],
   "source": [
    "Age = int(input(\"What's your age?: \"))\n",
    "\n",
    "if Age >= 18:\n",
    "    Experience = int(input(\"Years of experience?: \"))\n",
    "    if Experience >= 10:\n",
    "        print(\"You have a lot of experience\")\n",
    "    elif Experience >= 5 and Experience <= 9:\n",
    "        print(\"You have moderate of experience\")\n",
    "    elif Experience >= 2 and Experience <= 4:\n",
    "        print(\"You are relatively new\")\n",
    "    else:\n",
    "        print(\"You are are just starting out\")\n",
    "else:\n",
    "    print(\"You are underage\")"
   ]
  },
  {
   "cell_type": "markdown",
   "id": "e5448859-76e5-4005-8a49-d96d7f6bcb91",
   "metadata": {},
   "source": [
    "## Q3. Write a program to explore below variables, Result will help a programmer to decide which variable is storing less memory and variable locations."
   ]
  },
  {
   "cell_type": "code",
   "execution_count": 101,
   "id": "6e28ceaf-36cb-45fd-9126-e0aa1d2e4e81",
   "metadata": {},
   "outputs": [
    {
     "name": "stdout",
     "output_type": "stream",
     "text": [
      "Memory address of Variable_One: 140718633922520\n",
      "Memory address of Variable_Two: 140718633927320\n",
      "Memory address of Variable_Three: 1646816549648\n",
      "Memory address of Variable_Four: 1646820951984\n"
     ]
    }
   ],
   "source": [
    "Variable_One = 50\n",
    "Variable_Two = 200\n",
    "Variable_Three = 50.0 \n",
    "Variable_Four = \"Hello\"\n",
    "print(\"Memory address of Variable_One:\", id(Variable_One))\n",
    "print(\"Memory address of Variable_Two:\", id(Variable_Two))\n",
    "print(\"Memory address of Variable_Three:\", id(Variable_Three))\n",
    "print(\"Memory address of Variable_Four:\", id(Variable_Four))"
   ]
  },
  {
   "cell_type": "code",
   "execution_count": 102,
   "id": "7cb65bb7-0476-4a8a-a35e-eec0f532d66d",
   "metadata": {},
   "outputs": [
    {
     "name": "stdout",
     "output_type": "stream",
     "text": [
      "43 bytes\n",
      "44 bytes\n",
      "43 bytes\n",
      "44 bytes\n"
     ]
    }
   ],
   "source": [
    "import sys\n",
    "# sys.getsizeof()\n",
    "\n",
    "memory = \"bytes\"\n",
    "\n",
    "One = Variable_One\n",
    "print(sys.getsizeof(x),memory)\n",
    "\n",
    "Two = Variable_Two\n",
    "print(sys.getsizeof(y),memory)\n",
    "\n",
    "Three = Variable_Three\n",
    "print(sys.getsizeof(x),memory)\n",
    "\n",
    "Four = Variable_Four\n",
    "print(sys.getsizeof(y),memory)"
   ]
  },
  {
   "cell_type": "code",
   "execution_count": 109,
   "id": "55a883e1-86c9-4e1a-9a21-2f8e1f163e15",
   "metadata": {},
   "outputs": [],
   "source": [
    "memory_sizes = [\n",
    "    (sys.getsizeof(Variable_One)),\n",
    "    (sys.getsizeof(Variable_Two)),\n",
    "    (sys.getsizeof(Variable_Three)),\n",
    "    (sys.getsizeof(Variable_Four)),\n",
    "]"
   ]
  },
  {
   "cell_type": "code",
   "execution_count": 110,
   "id": "cb792aaf-b8dc-41d2-b2e3-e4d517ec1c71",
   "metadata": {},
   "outputs": [
    {
     "data": {
      "text/plain": [
       "[28, 28, 24, 46]"
      ]
     },
     "execution_count": 110,
     "metadata": {},
     "output_type": "execute_result"
    }
   ],
   "source": [
    "memory_sizes"
   ]
  },
  {
   "cell_type": "code",
   "execution_count": 111,
   "id": "0ed094d0-e66a-4680-a35b-f9766bdd268d",
   "metadata": {},
   "outputs": [
    {
     "data": {
      "text/plain": [
       "24"
      ]
     },
     "execution_count": 111,
     "metadata": {},
     "output_type": "execute_result"
    }
   ],
   "source": [
    "min(memory_sizes)"
   ]
  },
  {
   "cell_type": "code",
   "execution_count": 112,
   "id": "2e12145a-f54d-45f3-ae86-bf91b4e8ecbe",
   "metadata": {},
   "outputs": [
    {
     "data": {
      "text/plain": [
       "float"
      ]
     },
     "execution_count": 112,
     "metadata": {},
     "output_type": "execute_result"
    }
   ],
   "source": [
    "type(Variable_Three)"
   ]
  },
  {
   "cell_type": "markdown",
   "id": "c6b2631e-779c-4365-89ba-405d39d0d537",
   "metadata": {},
   "source": [
    "## Q4. Write a Python program that asks the user to enter an email address."
   ]
  },
  {
   "cell_type": "code",
   "execution_count": 128,
   "id": "713d1417-8dbd-4a4d-b3af-3866da9915f8",
   "metadata": {},
   "outputs": [
    {
     "name": "stdin",
     "output_type": "stream",
     "text": [
      "Enter your email address here:  mnk@gmail.com\n"
     ]
    },
    {
     "name": "stdout",
     "output_type": "stream",
     "text": [
      "Email format is Valid\n"
     ]
    }
   ],
   "source": [
    "email = input(\"Enter your email address here: \")\n",
    "\n",
    "if \"@\" in email or \".\" in email:\n",
    "    print(\"Email format is Valid\")\n",
    "else:\n",
    "    print(\"Invalid Email format\")"
   ]
  },
  {
   "cell_type": "markdown",
   "id": "ad5f921d-4935-4e54-8ffc-62cde9c2e20b",
   "metadata": {},
   "source": [
    "## Q5. Write a python program to know data type of each element stored in a tuple, append the data types in a list."
   ]
  },
  {
   "cell_type": "code",
   "execution_count": 143,
   "id": "98a74aa3-ff88-4325-801f-1b2133ce4f59",
   "metadata": {},
   "outputs": [],
   "source": [
    "my_tuple = (11, 22.333, 'apple', [1,2,3], ('a','b'))"
   ]
  },
  {
   "cell_type": "code",
   "execution_count": 144,
   "id": "2e915991-fc37-480a-9c02-2ba9016dff71",
   "metadata": {},
   "outputs": [],
   "source": [
    "type1 = type(my_tuple[0])\n",
    "type2 = type(my_tuple[1])\n",
    "type3 = type(my_tuple[2])\n",
    "type4 = type(my_tuple[3])\n",
    "type5 = type(my_tuple[4])"
   ]
  },
  {
   "cell_type": "code",
   "execution_count": 145,
   "id": "8318d560-fae7-4068-b24b-9d963f47200c",
   "metadata": {},
   "outputs": [],
   "source": [
    "data_types = [type1, type2, type3, type4, type5]"
   ]
  },
  {
   "cell_type": "code",
   "execution_count": 146,
   "id": "8cbc6fc4-d773-4e5b-900b-7b040d4f2802",
   "metadata": {},
   "outputs": [
    {
     "name": "stdout",
     "output_type": "stream",
     "text": [
      "Data types of tuple elements: [<class 'int'>, <class 'float'>, <class 'str'>, <class 'list'>, <class 'tuple'>]\n"
     ]
    }
   ],
   "source": [
    "print(\"Data types of tuple elements:\", data_types)"
   ]
  },
  {
   "cell_type": "markdown",
   "id": "5b581ba5-3ed6-46c5-b8be-626443b73eb8",
   "metadata": {},
   "source": [
    "## Q6. Write a Python program that: \n",
    "### Checks if a given username exists in a list of active users.\n",
    "### Verifies if the user is the admin using identity operators."
   ]
  },
  {
   "cell_type": "code",
   "execution_count": 163,
   "id": "e669defd-3d0a-4229-9c94-6eeebfb7734a",
   "metadata": {},
   "outputs": [
    {
     "name": "stdin",
     "output_type": "stream",
     "text": [
      "Enter username to check:  alice\n"
     ]
    },
    {
     "name": "stdout",
     "output_type": "stream",
     "text": [
      "The username exists in the active users list.\n",
      "The user is the admin.\n"
     ]
    }
   ],
   "source": [
    "active_users = [(\"alice\", \"admin\"), (\"bob\", \"user\"), (\"charlie\", \"moderator\")]\n",
    "\n",
    "admin_user = (\"alice\", \"admin\")\n",
    "\n",
    "user_input = input(\"Enter username to check: \")\n",
    "\n",
    "user_exists = (user_input, \"admin\") in active_users or (user_input, \"user\") in active_users or (user_input, \"moderator\") in active_users\n",
    "\n",
    "if user_exists:\n",
    "    print(\"The username exists in the active users list.\")\n",
    "    if (user_input, \"admin\") in active_users:\n",
    "        print(\"The user is the admin.\")\n",
    "    else:\n",
    "        print(\"The user is not the admin.\")\n",
    "else:\n",
    "    print(\"The username does not exist in the active users list.\")"
   ]
  },
  {
   "cell_type": "markdown",
   "id": "58cf5873-7a0b-47b2-970a-773451229c6c",
   "metadata": {},
   "source": [
    "## Q7 find relation between person1, person2, and person 3."
   ]
  },
  {
   "cell_type": "code",
   "execution_count": 167,
   "id": "530a61c6-9fd7-4ee3-8833-1b4674ce9d85",
   "metadata": {},
   "outputs": [
    {
     "name": "stdout",
     "output_type": "stream",
     "text": [
      "1646834422336\n",
      "1646834422336\n",
      "1646833203648\n",
      "True\n"
     ]
    }
   ],
   "source": [
    "person1 = ['Shehzad','Shama','Shah Faisal','5555'] \n",
    "\n",
    "person2 = person1\n",
    "\n",
    "person3 = ['Zaki','Sahera','Nazimabad','9999']\n",
    "\n",
    "print(id(person1))\n",
    "print(id(person2))\n",
    "print(id(person3))\n",
    "print(person1 is person2)"
   ]
  },
  {
   "cell_type": "code",
   "execution_count": 169,
   "id": "2b3bcfe0-4e66-4502-a6bf-b2451b6a070d",
   "metadata": {},
   "outputs": [
    {
     "name": "stdout",
     "output_type": "stream",
     "text": [
      "Relation: Siblings\n"
     ]
    }
   ],
   "source": [
    "if person1 is person2:\n",
    "  print(\"Relation: Siblings\")\n",
    "else:\n",
    "    print(\"Relation: Not Siblings\")"
   ]
  },
  {
   "cell_type": "code",
   "execution_count": 170,
   "id": "4889b0bb-a137-4725-8a3d-38acaad2de89",
   "metadata": {},
   "outputs": [
    {
     "name": "stdout",
     "output_type": "stream",
     "text": [
      "Relation: Not Cousin\n"
     ]
    }
   ],
   "source": [
    "if person1 is person3:\n",
    "  print(\"Relation: Cousin\")\n",
    "else:\n",
    "    print(\"Relation: Not Cousin\")"
   ]
  },
  {
   "cell_type": "markdown",
   "id": "0ea21acd-d10f-4597-9e4d-fb447edac948",
   "metadata": {},
   "source": [
    "## Q8. Write a Python program to store and display a book&#39;s title, author, year of publication, and price using a tuple."
   ]
  },
  {
   "cell_type": "code",
   "execution_count": 174,
   "id": "f198e8ee-6c01-4217-a848-9957fed14d75",
   "metadata": {},
   "outputs": [
    {
     "name": "stdin",
     "output_type": "stream",
     "text": [
      "Enter the book's title:  Intro to python\n",
      "Enter the author's name:  Ms. Khushboo Saleem\n",
      "Enter the year of publication:  2023\n",
      "Enter the book's price:  999.99\n"
     ]
    },
    {
     "name": "stdout",
     "output_type": "stream",
     "text": [
      "('Intro to python', 'Ms. Khushboo Saleem', 2023, 999.99)\n"
     ]
    }
   ],
   "source": [
    "title = input(\"Enter the book's title: \")\n",
    "author = input(\"Enter the author's name: \")\n",
    "year = int(input(\"Enter the year of publication: \"))\n",
    "price = float(input(\"Enter the book's price: \"))\n",
    "\n",
    "book_info = (title, author, year, price)\n",
    "print(book_info)"
   ]
  },
  {
   "cell_type": "code",
   "execution_count": null,
   "id": "b0414f1e-6c59-4cf1-aacf-b1582238558a",
   "metadata": {},
   "outputs": [],
   "source": []
  }
 ],
 "metadata": {
  "kernelspec": {
   "display_name": "Python 3 (ipykernel)",
   "language": "python",
   "name": "python3"
  },
  "language_info": {
   "codemirror_mode": {
    "name": "ipython",
    "version": 3
   },
   "file_extension": ".py",
   "mimetype": "text/x-python",
   "name": "python",
   "nbconvert_exporter": "python",
   "pygments_lexer": "ipython3",
   "version": "3.12.7"
  }
 },
 "nbformat": 4,
 "nbformat_minor": 5
}
